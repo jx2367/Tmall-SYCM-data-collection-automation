{
 "cells": [
  {
   "cell_type": "code",
   "execution_count": 12,
   "metadata": {},
   "outputs": [],
   "source": [
    "import time\n",
    "import sys\n",
    "import os\n",
    "import re\n",
    "import pandas as pd\n",
    "import numpy as np\n",
    "import pyperclip  # 引入模块"
   ]
  },
  {
   "cell_type": "code",
   "execution_count": 13,
   "metadata": {},
   "outputs": [],
   "source": [
    "def recover(x):\n",
    "    if x=='TNF':\n",
    "        return('THE NORTH FACE/北面')\n",
    "    elif x=='CanadaGoose':\n",
    "        return('Canada Goose')\n",
    "    elif x=='NEW_BALANCE':\n",
    "        return('NEW BALANCE')\n",
    "    elif x=='TommyHilfiger':\n",
    "        return('TOMMY HILFIGER')\n",
    "    elif x=='Jackwolfskin/狼爪':\n",
    "        return('Jack wolfskin/狼爪')\n",
    "    elif x=='ARCTERYX/始祖鸟':\n",
    "        return('ARC‘TERYX/始祖鸟')\n",
    "    else:\n",
    "        return(x)"
   ]
  },
  {
   "cell_type": "code",
   "execution_count": 14,
   "metadata": {},
   "outputs": [],
   "source": [
    "def brand_N(changed):\n",
    "    brand_name=[]\n",
    "    if 'NEW BALANCE' in changed:\n",
    "        changed=changed.replace('NEW BALANCE','NEW_BALANCE')\n",
    "    if 'Canada Goose' in changed:\n",
    "        changed=changed.replace('Canada Goose','CanadaGoose')\n",
    "    if 'TOMMY HILFIGER' in changed:\n",
    "        changed=changed.replace('TOMMY HILFIGER','TommyHilfiger')   \n",
    "    if 'THE NORTH FACE/北面' in changed:\n",
    "        changed=changed.replace('THE NORTH FACE/北面','TNF')    \n",
    "    if 'Jack wolfskin/狼爪' in changed:\n",
    "        changed=changed.replace('Jack wolfskin/狼爪','Jackwolfskin/狼爪')  \n",
    "    if 'ARC‘TERYX/始祖鸟' in changed:\n",
    "        changed=changed.replace('ARC‘TERYX/始祖鸟','ARCTERYX/始祖鸟')       \n",
    "    brand1= changed.split('支付转化指数 ')\n",
    "    brand3=[x for x in brand1[1].split(' ') if x!='']\n",
    "    for b in brand3:\n",
    "        if bool(re.search(r'\\d', b))==False:\n",
    "            brand_name.append(b.strip())\n",
    "    return(brand_name)"
   ]
  },
  {
   "cell_type": "code",
   "execution_count": 15,
   "metadata": {},
   "outputs": [],
   "source": [
    "def gender_build(changed):\n",
    "    title_g=['女','男','未知 ']\n",
    "    col_nums=len(title_g)\n",
    "    gender_l2=[]\n",
    "    gender_l1= changed.split(' ')\n",
    "    for g in gender_l1:\n",
    "        if bool(re.search(r'\\d', g)):\n",
    "            gender_l2.append(g)\n",
    "    t=pd.DataFrame([gender_l2[i:i+col_nums] for i in range(0,len(gender_l2),col_nums)],columns=title_g)\n",
    "    t2=t.drop([\"未知 \"],axis=1,inplace=False)\n",
    "    t2.index=brand_name\n",
    "    return(t2)"
   ]
  },
  {
   "cell_type": "code",
   "execution_count": 16,
   "metadata": {},
   "outputs": [],
   "source": [
    "def age_build(changed):\n",
    "    title_g=[]\n",
    "    age_l2=[]\n",
    "    age_l1= changed.split(' ')\n",
    "    for g in age_l1:\n",
    "        if (g.find('~')>=0) | (g.find('>') >=0):\n",
    "            if g not in title_g:\n",
    "                title_g.append(g)\n",
    "        else:        \n",
    "            if bool(re.search(r'\\d', g)):\n",
    "                age_l2.append(g)\n",
    "            \n",
    "    col_nums=len(title_g)        \n",
    "    t=pd.DataFrame([age_l2[i:i+col_nums] for i in range(0,len(age_l2),col_nums)],columns=title_g)\n",
    "    t.index=brand_name\n",
    "    return(t)"
   ]
  },
  {
   "cell_type": "code",
   "execution_count": null,
   "metadata": {},
   "outputs": [],
   "source": [
    "\n"
   ]
  },
  {
   "cell_type": "code",
   "execution_count": 17,
   "metadata": {},
   "outputs": [],
   "source": [
    "def city_build(changed):\n",
    "    top=dict()\n",
    "    city_l1= changed.split('排名 省份 客群指数 ')\n",
    "    city_l2=city_l1[1:]\n",
    "    for num, i in enumerate(city_l2):\n",
    "        top[num]=pd.Series([x for x in i.split(' ') if max(x.find(\"市\"),x.find(\"特别行政区\"))>-1 ])\n",
    "    t=pd.concat(top,axis=1).reset_index(drop=True)\n",
    "    t.columns=brand_name\n",
    "    return(t)"
   ]
  },
  {
   "cell_type": "code",
   "execution_count": 18,
   "metadata": {},
   "outputs": [],
   "source": [
    "def brand_build(changed):\n",
    "    top=dict()\n",
    "    gender_l1= changed.split('品牌名称 偏好人数 ')\n",
    "    gender_l2=gender_l1[1:]\n",
    "    gender_l2=[x.replace('Canada Goose','CanadaGoose') for x in gender_l2]\n",
    "    gender_l2=[x.replace('THE NORTH FACE/北面','TNF') for x in gender_l2]\n",
    "    gender_l2=[x.replace('NEW BALANCE','NEW_BALANCE') for x in gender_l2]\n",
    "    gender_l2=[x.replace('361°','三六一度') for x in gender_l2]\n",
    "    gender_l2=[x.replace('NEW BOLUNE/新百伦','NEW_BOLUNE/新百伦') for x in gender_l2]\n",
    "    for num, i in enumerate(gender_l2):\n",
    "        top[num]=pd.Series([x for x in i.split(' ') if (bool(re.search(r'\\d', x))==False) & (x!='') ])\n",
    "    t=pd.concat(top,axis=1).reset_index(drop=True)\n",
    "    t.columns=brand_name\n",
    "    t2=t.applymap(recover)\n",
    "    return(t2)"
   ]
  },
  {
   "cell_type": "code",
   "execution_count": 19,
   "metadata": {},
   "outputs": [],
   "source": [
    "def cat_build(changed):\n",
    "    top=dict()\n",
    "    gender_l1= changed.split('类目名称 偏好人数 ')\n",
    "    gender_l2=gender_l1[1:]\n",
    "    for num, i in enumerate(gender_l2):\n",
    "        top[num]=pd.Series([x for x in i.split(' ') if (bool(re.search(r'\\d', x))==False) & (x!='') ])\n",
    "    t=pd.concat(top,axis=1).reset_index(drop=True)\n",
    "    return(t)"
   ]
  },
  {
   "cell_type": "code",
   "execution_count": 20,
   "metadata": {},
   "outputs": [],
   "source": [
    "def pay_build(changed):\n",
    "    pay_l1= changed.split('支付金额 客群占比 ')\n",
    "    title_g=[]\n",
    "    pay_l2=[]\n",
    "    for g1 in pay_l1:\n",
    "        g2=g1.split(' ')\n",
    "        for g in g2:\n",
    "            if (g.find('-')>=0) | (g.find('以上')>=0):\n",
    "                if g not in title_g:\n",
    "                    title_g.append(g)\n",
    "            else:        \n",
    "                if (g.find('%')>=0):\n",
    "                    pay_l2.append(g)\n",
    "                    \n",
    "    col_nums=len(title_g)        \n",
    "    t=pd.DataFrame([pay_l2[i:i+col_nums] for i in range(0,len(pay_l2),col_nums)],columns=title_g)\n",
    "    t2=t.T.reset_index()\n",
    "    return(t2)"
   ]
  },
  {
   "cell_type": "code",
   "execution_count": 21,
   "metadata": {},
   "outputs": [],
   "source": [
    "recent_value = \"\"\n",
    "tmp_value=\"\" # 初始化（应该也可以没有这一行，感觉意义不大。但是对recent_value的初始化是必须的）"
   ]
  },
  {
   "cell_type": "code",
   "execution_count": null,
   "metadata": {},
   "outputs": [],
   "source": []
  },
  {
   "cell_type": "code",
   "execution_count": 22,
   "metadata": {},
   "outputs": [],
   "source": [
    "pyperclip.copy('')\n",
    "\n",
    "city_d=dict()\n",
    "while True:\n",
    "    tmp_value = pyperclip.paste() \t\t\t# 读取剪切板复制的内容\n",
    "    \n",
    "    try:\n",
    "        if tmp_value != recent_value:\t\t\t\t #如果检测到剪切板内容有改动，那么就进入文本的修改\n",
    "            recent_value = tmp_value\n",
    "            changed = re.sub(r\"\\s{2,}\", \" \", recent_value) \t#将文本的换行符去掉，变成一个空格\n",
    "            pyperclip.copy(changed) \t\t\t\t\t\t\t#将修改后的文本写入系统剪切板中\n",
    "            if '交易指数' in changed:\n",
    "                brand_name=brand_N(changed)\n",
    "            if '性别' in changed:\n",
    "                gender=gender_build(changed)\n",
    "                \n",
    "            if '年龄' in changed:\n",
    "                age=age_build(changed)\n",
    "                \n",
    "            if '城市' in changed:\n",
    "                if '1 ／3' in changed:\n",
    "                    city_d[0]= city_build(changed)\n",
    "                if '2 ／3' in changed:\n",
    "                    city_d[1]= city_build(changed)\n",
    "                if '3 ／3' in changed:\n",
    "                    city_d[2]= city_build(changed)\n",
    "                \n",
    "                city=pd.concat(city_d,axis=0).reset_index(drop=True)\n",
    "\n",
    "\n",
    "            if '品牌' in changed:\n",
    "                brand= brand_build(changed)\n",
    "     \n",
    "            if '类目' in changed:\n",
    "                cat= cat_build(changed)\n",
    "        \n",
    "            if '支付' in changed:\n",
    "                if '交易指数' not in changed:\n",
    "                    pay= pay_build(changed)\n",
    "           \n",
    "        time.sleep(0.1)\n",
    "    except KeyboardInterrupt:  # 如果有ctrl+c，那么就退出这个程序。  （不过好像并没有用。无伤大雅）\n",
    "        break\n",
    "        \n",
    "    if tmp_value == 'getend': # 如果复制的是getend，就退出程序。（这个主要是为了方便我在spyder中运行、退出的时候用的。）\n",
    "        break"
   ]
  },
  {
   "cell_type": "code",
   "execution_count": 661,
   "metadata": {},
   "outputs": [],
   "source": [
    "#接下来就是复制生意参谋的数"
   ]
  },
  {
   "cell_type": "markdown",
   "metadata": {},
   "source": [
    "#复制: getend\n",
    "#复制后上面的程序就会中止，每一次更新页面都需要中止重新做一次 "
   ]
  },
  {
   "cell_type": "code",
   "execution_count": 662,
   "metadata": {},
   "outputs": [],
   "source": [
    "#后续的每跑一个格子，粘贴1次到excel即可，跳过ctrl+c ，直接按ctrl+v"
   ]
  },
  {
   "cell_type": "code",
   "execution_count": 23,
   "metadata": {},
   "outputs": [
    {
     "name": "stdout",
     "output_type": "stream",
     "text": [
      "['Kipling', 'LeSportsac', 'Herschel']\n"
     ]
    }
   ],
   "source": [
    "print(brand_name)"
   ]
  },
  {
   "cell_type": "code",
   "execution_count": null,
   "metadata": {},
   "outputs": [],
   "source": []
  },
  {
   "cell_type": "code",
   "execution_count": null,
   "metadata": {},
   "outputs": [],
   "source": []
  },
  {
   "cell_type": "code",
   "execution_count": 24,
   "metadata": {},
   "outputs": [
    {
     "name": "stdout",
     "output_type": "stream",
     "text": [
      "                 女      男\n",
      "Kipling     13,556  4,343\n",
      "LeSportsac   8,036  1,943\n",
      "Herschel     4,515  4,849\n"
     ]
    }
   ],
   "source": [
    "#性别分析\n",
    "gender.to_clipboard(excel=True,index=False,header=False)\n",
    "print(gender)"
   ]
  },
  {
   "cell_type": "code",
   "execution_count": 25,
   "metadata": {},
   "outputs": [
    {
     "name": "stdout",
     "output_type": "stream",
     "text": [
      "            18~24  25~29  30~34  35~39  40~49   >=50\n",
      "Kipling     3,059  4,670  6,482  5,945  5,847  4,191\n",
      "LeSportsac  1,002  2,152  4,001  4,123  3,518  1,796\n",
      "Herschel    4,346  3,223  2,210  1,378  1,420    727\n"
     ]
    }
   ],
   "source": [
    "#年龄分析\n",
    "age.to_clipboard(excel=True,index=False,header=False)\n",
    "print(age)"
   ]
  },
  {
   "cell_type": "code",
   "execution_count": 26,
   "metadata": {},
   "outputs": [
    {
     "name": "stdout",
     "output_type": "stream",
     "text": [
      "   Kipling LeSportsac Herschel\n",
      "1      北京市        北京市      上海市\n",
      "2      上海市        上海市      北京市\n",
      "3      广州市        南京市      广州市\n",
      "4      深圳市        广州市      杭州市\n",
      "5      西安市        成都市      深圳市\n",
      "6      南京市        深圳市      南京市\n",
      "7      成都市        杭州市      成都市\n",
      "8      杭州市        武汉市      武汉市\n",
      "9      武汉市        西安市      重庆市\n",
      "10     郑州市        郑州市      长沙市\n",
      "11     天津市        重庆市      西安市\n",
      "12     沈阳市        天津市  香港特别行政区\n",
      "13     济南市        昆明市      东莞市\n",
      "14     重庆市        沈阳市      天津市\n",
      "15     长沙市        长沙市      苏州市\n",
      "16     大连市       哈尔滨市      厦门市\n",
      "17    石家庄市        长春市  澳门特别行政区\n",
      "18    哈尔滨市        济南市      福州市\n",
      "19     长春市       石家庄市      合肥市\n",
      "20     苏州市        大连市      济南市\n",
      "21     合肥市        苏州市      昆明市\n",
      "22     太原市        合肥市      沈阳市\n",
      "23     昆明市        青岛市      郑州市\n",
      "24     厦门市        福州市      长春市\n",
      "25     东莞市        无锡市      佛山市\n",
      "26     福州市        宁波市      南宁市\n",
      "27     青岛市    香港特别行政区      贵阳市\n",
      "28     南宁市        厦门市     哈尔滨市\n",
      "29     南昌市        太原市      海口市\n",
      "30     贵阳市        南宁市     石家庄市\n"
     ]
    }
   ],
   "source": [
    "#top城市\n",
    "city.index=range(1,len(city)+1)\n",
    "city.columns=brand_name\n",
    "print(city)\n",
    "city.to_clipboard(excel=True,index=False,header=False)"
   ]
  },
  {
   "cell_type": "code",
   "execution_count": 667,
   "metadata": {},
   "outputs": [
    {
     "name": "stdout",
     "output_type": "stream",
     "text": [
      "       TIMBERLAND/添柏岚  TommyHilfiger\n",
      "1      TIMBERLAND/添柏岚          TOMMY\n",
      "2   THE NORTH FACE/北面       HILFIGER\n",
      "3         Adidas/阿迪达斯   TOMMYHFILGER\n",
      "4          Uniqlo/优衣库      Lining/李宁\n",
      "5             Nike/耐克   Tagkita/她及其他\n",
      "6           Lining/李宁       COACH/蔻驰\n",
      "7                 南极人         Calvin\n",
      "8         Bananain/蕉内     Klein/凯文克莱\n",
      "9             MIUI/小米            南极人\n",
      "10         Levi’s/李维斯          Tommy\n",
      "11                NaN       KIRKLAND\n",
      "12                NaN  Signature/科克兰\n",
      "13                NaN   Shiseido/资生堂\n"
     ]
    }
   ],
   "source": [
    "#品牌\n",
    "brand.index=range(1,len(brand)+1)\n",
    "brand.columns=brand_name\n",
    "print(brand)\n",
    "brand.to_clipboard(excel=True,index=False,header=False)"
   ]
  },
  {
   "cell_type": "code",
   "execution_count": 668,
   "metadata": {},
   "outputs": [
    {
     "data": {
      "text/html": [
       "<div>\n",
       "<style scoped>\n",
       "    .dataframe tbody tr th:only-of-type {\n",
       "        vertical-align: middle;\n",
       "    }\n",
       "\n",
       "    .dataframe tbody tr th {\n",
       "        vertical-align: top;\n",
       "    }\n",
       "\n",
       "    .dataframe thead th {\n",
       "        text-align: right;\n",
       "    }\n",
       "</style>\n",
       "<table border=\"1\" class=\"dataframe\">\n",
       "  <thead>\n",
       "    <tr style=\"text-align: right;\">\n",
       "      <th></th>\n",
       "      <th>0</th>\n",
       "      <th>1</th>\n",
       "    </tr>\n",
       "  </thead>\n",
       "  <tbody>\n",
       "    <tr>\n",
       "      <th>0</th>\n",
       "      <td>户外服装</td>\n",
       "      <td>户外服装</td>\n",
       "    </tr>\n",
       "    <tr>\n",
       "      <th>1</th>\n",
       "      <td>户外鞋靴</td>\n",
       "      <td>T恤</td>\n",
       "    </tr>\n",
       "    <tr>\n",
       "      <th>2</th>\n",
       "      <td>T恤</td>\n",
       "      <td>连衣裙</td>\n",
       "    </tr>\n",
       "    <tr>\n",
       "      <th>3</th>\n",
       "      <td>休闲裤</td>\n",
       "      <td>女士包袋</td>\n",
       "    </tr>\n",
       "    <tr>\n",
       "      <th>4</th>\n",
       "      <td>夹克</td>\n",
       "      <td>T恤</td>\n",
       "    </tr>\n",
       "    <tr>\n",
       "      <th>5</th>\n",
       "      <td>衬衫</td>\n",
       "      <td>裤子</td>\n",
       "    </tr>\n",
       "    <tr>\n",
       "      <th>6</th>\n",
       "      <td>T恤</td>\n",
       "      <td>短外套</td>\n",
       "    </tr>\n",
       "    <tr>\n",
       "      <th>7</th>\n",
       "      <td>手机配件</td>\n",
       "      <td>衬衫</td>\n",
       "    </tr>\n",
       "    <tr>\n",
       "      <th>8</th>\n",
       "      <td>连衣裙</td>\n",
       "      <td>毛针织衫</td>\n",
       "    </tr>\n",
       "    <tr>\n",
       "      <th>9</th>\n",
       "      <td>运动休闲鞋</td>\n",
       "      <td>低帮鞋</td>\n",
       "    </tr>\n",
       "  </tbody>\n",
       "</table>\n",
       "</div>"
      ],
      "text/plain": [
       "       0     1\n",
       "0   户外服装  户外服装\n",
       "1   户外鞋靴    T恤\n",
       "2     T恤   连衣裙\n",
       "3    休闲裤  女士包袋\n",
       "4     夹克    T恤\n",
       "5     衬衫    裤子\n",
       "6     T恤   短外套\n",
       "7   手机配件    衬衫\n",
       "8    连衣裙  毛针织衫\n",
       "9  运动休闲鞋   低帮鞋"
      ]
     },
     "execution_count": 668,
     "metadata": {},
     "output_type": "execute_result"
    }
   ],
   "source": [
    "cat"
   ]
  },
  {
   "cell_type": "code",
   "execution_count": 669,
   "metadata": {},
   "outputs": [
    {
     "name": "stdout",
     "output_type": "stream",
     "text": [
      "   TIMBERLAND/添柏岚 TommyHilfiger\n",
      "1            户外服装          户外服装\n",
      "2            户外鞋靴            T恤\n",
      "3              T恤           连衣裙\n",
      "4             休闲裤          女士包袋\n",
      "5              夹克            T恤\n",
      "6              衬衫            裤子\n",
      "7              T恤           短外套\n",
      "8            手机配件            衬衫\n",
      "9             连衣裙          毛针织衫\n",
      "10          运动休闲鞋           低帮鞋\n"
     ]
    }
   ],
   "source": [
    "#类目\n",
    "cat.index=range(1,len(cat)+1)\n",
    "cat.columns=brand_name\n",
    "print(cat)\n",
    "cat.to_clipboard(excel=True,index=False,header=False)"
   ]
  },
  {
   "cell_type": "code",
   "execution_count": 670,
   "metadata": {},
   "outputs": [
    {
     "name": "stdout",
     "output_type": "stream",
     "text": [
      "     spend_cut TIMBERLAND/添柏岚 TommyHilfiger\n",
      "0       0-20.0          5.11%         2.70%\n",
      "1    20.0-45.0          5.68%         2.70%\n",
      "2    45.0-70.0          1.70%        37.84%\n",
      "3   70.0-120.0          3.41%        56.76%\n",
      "4  120.0-275.0         15.34%          None\n",
      "5      275.0以上         68.75%          None\n"
     ]
    }
   ],
   "source": [
    "#支付\n",
    "pay.columns=['spend_cut']+brand_name\n",
    "pay.to_clipboard(excel=True,index=False,header=False)\n",
    "print(pay)"
   ]
  },
  {
   "cell_type": "code",
   "execution_count": null,
   "metadata": {},
   "outputs": [],
   "source": []
  },
  {
   "cell_type": "code",
   "execution_count": null,
   "metadata": {},
   "outputs": [],
   "source": []
  },
  {
   "cell_type": "code",
   "execution_count": null,
   "metadata": {},
   "outputs": [],
   "source": []
  },
  {
   "cell_type": "code",
   "execution_count": null,
   "metadata": {},
   "outputs": [],
   "source": []
  },
  {
   "cell_type": "code",
   "execution_count": null,
   "metadata": {},
   "outputs": [],
   "source": []
  },
  {
   "cell_type": "code",
   "execution_count": null,
   "metadata": {},
   "outputs": [],
   "source": []
  },
  {
   "cell_type": "code",
   "execution_count": null,
   "metadata": {},
   "outputs": [],
   "source": []
  },
  {
   "cell_type": "code",
   "execution_count": null,
   "metadata": {},
   "outputs": [],
   "source": []
  },
  {
   "cell_type": "code",
   "execution_count": null,
   "metadata": {},
   "outputs": [],
   "source": []
  }
 ],
 "metadata": {
  "kernelspec": {
   "display_name": "Python 3",
   "language": "python",
   "name": "python3"
  },
  "language_info": {
   "codemirror_mode": {
    "name": "ipython",
    "version": 3
   },
   "file_extension": ".py",
   "mimetype": "text/x-python",
   "name": "python",
   "nbconvert_exporter": "python",
   "pygments_lexer": "ipython3",
   "version": "3.8.5"
  }
 },
 "nbformat": 4,
 "nbformat_minor": 4
}

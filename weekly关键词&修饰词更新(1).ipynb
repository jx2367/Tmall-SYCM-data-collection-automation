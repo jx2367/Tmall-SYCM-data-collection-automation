{
 "cells": [
  {
   "cell_type": "code",
   "execution_count": 18,
   "metadata": {},
   "outputs": [],
   "source": [
    "import pandas as pd\n",
    "import numpy as np\n",
    "import os\n",
    "import getpass\n",
    "import sys"
   ]
  },
  {
   "cell_type": "code",
   "execution_count": 19,
   "metadata": {},
   "outputs": [],
   "source": [
    "import warnings\n",
    "warnings.filterwarnings(\"ignore\")"
   ]
  },
  {
   "cell_type": "code",
   "execution_count": 20,
   "metadata": {},
   "outputs": [],
   "source": [
    "account=getpass.getuser()\n",
    "\n",
    "#注意windows用户请把'/Users/'改为 ’c:/Users/‘\n",
    "path='/Users/'+str(account)+'/Desktop/weekly_kw_update/'\n",
    "\n",
    "#这里需要修改rawdata的文件夹名字，每更新一周就改一个名字，这里对齐就好\n",
    "raw_path=path+\"week_20210504-0510\"+\"/\""
   ]
  },
  {
   "cell_type": "code",
   "execution_count": 21,
   "metadata": {},
   "outputs": [],
   "source": [
    "#需要提前把dictionary文件夹放入weekly_kw_update这个文件夹里\n",
    "cat_dict0=pd.read_excel(path+'dictionary.xlsx',sheet_name='cat_dict')\n",
    "brand_dict0=pd.read_excel(path+'dictionary.xlsx',sheet_name='brand_dict')"
   ]
  },
  {
   "cell_type": "code",
   "execution_count": null,
   "metadata": {},
   "outputs": [],
   "source": []
  },
  {
   "cell_type": "code",
   "execution_count": 22,
   "metadata": {},
   "outputs": [],
   "source": [
    "cat_dict=dict(zip(cat_dict0[\"subcat\"],cat_dict0[\"cat\"]))\n",
    "brand_dict=dict(zip(brand_dict0[\"sub_kw\"],brand_dict0[\"brand\"]))"
   ]
  },
  {
   "cell_type": "code",
   "execution_count": 23,
   "metadata": {},
   "outputs": [
    {
     "name": "stdout",
     "output_type": "stream",
     "text": [
      "马丁靴\n",
      "女包\n",
      "运动t恤\n",
      "运动服\n",
      "卡套\n",
      "羽绒服\n",
      "手机包\n",
      "卡包\n",
      "双肩包\n",
      "帆布鞋\n",
      "徒步鞋\n",
      "女装\n",
      "运动卫衣\n",
      "板鞋\n",
      "夹克\n",
      "皮肤衣\n",
      "休闲裤\n",
      "运动鞋\n",
      "冲锋衣\n",
      "卫衣\n",
      "靴子\n",
      "运动外套\n",
      "钥匙包\n",
      "休闲鞋\n",
      "t恤\n",
      "证件包\n",
      "滑雪服\n"
     ]
    }
   ],
   "source": [
    "cat_kw=dict()\n",
    "cat_decrp=dict()\n",
    "brand_kw=dict()\n",
    "brand_descrp=dict()\n",
    "for file in os.listdir(raw_path):\n",
    "    buff=file.split(sep=\"_\")\n",
    "    df=pd.read_csv(raw_path+file)\n",
    "    \n",
    "    if buff[1].lower() in [x.lower() for x in cat_dict.keys()]:\n",
    "        if \"相关搜索\" in buff[5]:\n",
    "            print(buff[1])\n",
    "            cat_kw[buff[1]]=df\n",
    "        if \"关联修饰\" in buff[5]:\n",
    "            cat_decrp[buff[1]]=df\n",
    "    if buff[1].lower() in [x.lower() for x in brand_dict.keys()]:\n",
    "        if \"相关搜索\" in buff[5]:\n",
    "            brand_kw[buff[1]]=df\n",
    "        if \"关联修饰\" in buff[5]:\n",
    "            brand_descrp[buff[1]]=df\n",
    "            \n"
   ]
  },
  {
   "cell_type": "code",
   "execution_count": null,
   "metadata": {},
   "outputs": [],
   "source": []
  },
  {
   "cell_type": "code",
   "execution_count": 24,
   "metadata": {},
   "outputs": [],
   "source": [
    "cat_kw2=pd.concat(cat_kw,axis=0).reset_index()\n",
    "cat_decrp2=pd.concat(cat_decrp,axis=0).reset_index()\n",
    "brand_kw2=pd.concat(brand_kw,axis=0).reset_index()\n",
    "brand_descrp2=pd.concat(brand_descrp,axis=0).reset_index()"
   ]
  },
  {
   "cell_type": "code",
   "execution_count": 25,
   "metadata": {},
   "outputs": [],
   "source": [
    "def add_yw(data,year,week_num):\n",
    "    data=data.loc[data[\"日期\"].isna()==False]\n",
    "    data[\"Year\"]=year\n",
    "    data[\"Week\"]=week_num\n",
    "    data[\"Week_Detail\"]=data[\"日期\"]\n",
    "    data2=data[[\"Year\",\"Week\",\"Week_Detail\"]+[x for x in data.columns if x not in [\"level_1\",\"日期\",\"Year\",\"Week\",\"Week_Detail\"]]]\n",
    "    return(data2)"
   ]
  },
  {
   "cell_type": "code",
   "execution_count": 26,
   "metadata": {},
   "outputs": [
    {
     "data": {
      "text/plain": [
       "dict_keys(['t恤', '夹克', '女装', '卫衣', '休闲裤', '冲锋衣', '滑雪服', '皮肤衣', '徒步鞋', '羽绒服', '女包', '双肩包', '证件包', '手机包', '卡包', '卡套', '钥匙包', '板鞋', '帆布鞋', '休闲鞋', '运动鞋', '靴子', '马丁靴', '运动t恤', '运动服', '运动外套', '运动卫衣'])"
      ]
     },
     "execution_count": 26,
     "metadata": {},
     "output_type": "execute_result"
    }
   ],
   "source": [
    "cat_dict.keys()"
   ]
  },
  {
   "cell_type": "code",
   "execution_count": null,
   "metadata": {},
   "outputs": [],
   "source": []
  },
  {
   "cell_type": "code",
   "execution_count": 27,
   "metadata": {},
   "outputs": [
    {
     "name": "stdout",
     "output_type": "stream",
     "text": [
      "   Year  Week            Week_Detail keywords       关键词     搜索人数     搜索次数  \\\n",
      "0  2021    18  2021-05-04~2021-05-10      马丁靴       马丁靴  119,740  542,658   \n",
      "1  2021    18  2021-05-04~2021-05-10      马丁靴  马丁靴夏季薄款女   76,820  432,947   \n",
      "2  2021    18  2021-05-04~2021-05-10      马丁靴      马丁靴夏   40,915  208,612   \n",
      "\n",
      "       点击率    点击人数     点击次数     交易金额   支付转化率      在线商品数  商城点击占比  直通车参考价  \\\n",
      "0  118.82%  71,619  644,788  741,630   7.13%  6,140,751  44.54%    0.92   \n",
      "1  108.89%  58,171  471,445  818,724  11.51%     39,062  57.48%    0.93   \n",
      "2   112.3%  28,926  234,264  250,214    7.9%     94,952  51.27%    0.82   \n",
      "\n",
      "    支付人数     客单价 搜索人数/在线商品数 交易金额/在线商品数 category  \n",
      "0  5,106  145.25     0.0195     0.1208       鞋靴  \n",
      "1  6,695  122.29     1.9666    20.9596       鞋靴  \n",
      "2  2,285   109.5     0.4309     2.6352       鞋靴  \n",
      "   Year  Week            Week_Detail keywords 关键词   搜索人数 相关搜索词数 词均点击率   点击人数  \\\n",
      "0  2021    18  2021-05-04~2021-05-10      徒步鞋   男  5,589     48   86%  3,587   \n",
      "1  2021    18  2021-05-04~2021-05-10      徒步鞋   女  4,927     38  101%  3,309   \n",
      "2  2021    18  2021-05-04~2021-05-10      徒步鞋  外贸  4,858      2   96%  3,271   \n",
      "\n",
      "  词均支付转化率 词均支付人数 category  \n",
      "0     16%    894     户外服饰  \n",
      "1     18%    887     户外服饰  \n",
      "2      5%    243     户外服饰  \n",
      "   Year  Week            Week_Detail Search_keywords        关键词   搜索人数  \\\n",
      "0  2021    18  2021-05-04~2021-05-10            加拿大鹅       加拿大鹅  6,742   \n",
      "1  2021    18  2021-05-04~2021-05-10            加拿大鹅  加拿大鹅官方旗舰店  1,857   \n",
      "2  2021    18  2021-05-04~2021-05-10            加拿大鹅    加拿大鹅羽绒服    506   \n",
      "\n",
      "     搜索次数     点击率   点击人数    点击次数    交易金额  支付转化率  在线商品数  商城点击占比  直通车参考价 支付人数  \\\n",
      "0  16,878  70.39%  1,614  11,881  12,668  0.12%  4,011  57.06%    1.94    2   \n",
      "1   4,755  50.05%    439   2,380   6,900  0.23%     82   95.5%    2.01    1   \n",
      "2   1,573  75.08%    236   1,181       0      0  2,587  44.62%    1.10    0   \n",
      "\n",
      "     客单价 搜索人数/在线商品数 交易金额/在线商品数         Brand  \n",
      "0  6,334     1.6809     3.1583  Canada goose  \n",
      "1  6,900    22.6463    84.1463  Canada goose  \n",
      "2      0     0.1956          0  Canada goose  \n",
      "   Year  Week            Week_Detail Search_keywords 关键词    搜索人数 相关搜索词数 词均点击率  \\\n",
      "0  2021    18  2021-05-04~2021-05-10  tommy hilfiger  官方  17,397      9   56%   \n",
      "1  2021    18  2021-05-04~2021-05-10  tommy hilfiger   男     292     17  126%   \n",
      "2  2021    18  2021-05-04~2021-05-10  tommy hilfiger  夏季     247     13  137%   \n",
      "\n",
      "    点击人数 词均支付转化率 词均支付人数           Brand  \n",
      "0  3,623      8%  1,392  Tommy Hilfiger  \n",
      "1    218     19%     55  Tommy Hilfiger  \n",
      "2    217      8%     20  Tommy Hilfiger  \n"
     ]
    }
   ],
   "source": [
    "week_num=18\n",
    "\n",
    "cat_kw3=add_yw(cat_kw2,2021,week_num)\n",
    "cat_kw3=cat_kw3.rename(columns={\"level_0\":\"keywords\"},inplace=False)\n",
    "cat_kw3[\"category\"]=[cat_dict[x.lower()] for x in cat_kw3[\"keywords\"]]\n",
    "print(cat_kw3.head(3))\n",
    "\n",
    "\n",
    "cat_decrp3=add_yw(cat_decrp2,2021,week_num)\n",
    "cat_decrp3=cat_decrp3.rename(columns={\"level_0\":\"keywords\"},inplace=False)\n",
    "cat_decrp3[\"category\"]=[cat_dict[x.lower()] for x in cat_decrp3[\"keywords\"]]\n",
    "print(cat_decrp3.head(3))\n",
    "\n",
    "brand_kw3=add_yw(brand_kw2,2021,week_num)\n",
    "brand_kw3=brand_kw3.rename(columns={\"level_0\":\"Search_keywords\"},inplace=False)\n",
    "brand_kw3[\"Brand\"]=[brand_dict[x.lower()] for x in brand_kw3[\"Search_keywords\"]]\n",
    "print(brand_kw3.head(3))\n",
    "\n",
    "brand_descrp3=add_yw(brand_descrp2,2021,week_num)\n",
    "brand_descrp3=brand_descrp3.rename(columns={\"level_0\":\"Search_keywords\"},inplace=False)\n",
    "brand_descrp3[\"Brand\"]=[brand_dict[x.lower()] for x in brand_descrp3[\"Search_keywords\"]]\n",
    "print(brand_descrp3.head(3))"
   ]
  },
  {
   "cell_type": "code",
   "execution_count": null,
   "metadata": {},
   "outputs": [],
   "source": []
  },
  {
   "cell_type": "code",
   "execution_count": 28,
   "metadata": {},
   "outputs": [],
   "source": [
    "# 获取ExcelWriter对象\n",
    "pd.DataFrame().to_excel(path+\"result.xlsx\")\n",
    "writer = pd.ExcelWriter(path+\"result.xlsx\",engine='xlsxwriter',options={'strings_to_numbers': True}) \n",
    " \n",
    "#将df1与df2写入writer中\n",
    "brand_kw3[[\"Year\",\"Week\",\"Week_Detail\",\"Brand\"]+[x for x in brand_kw3.columns if x not in [\"Year\",\"Week\",\"Week_Detail\",\"Brand\"]]].to_excel(writer, sheet_name='品牌关键词',index=False)\n",
    "brand_descrp3[[\"Year\",\"Week\",\"Week_Detail\",\"Brand\"]+[x for x in brand_descrp3.columns if x not in [\"Year\",\"Week\",\"Week_Detail\",\"Brand\"]]].to_excel(writer, sheet_name='品牌修饰词',index=False)\n",
    "cat_kw3[[\"Year\",\"Week\",\"Week_Detail\",\"category\"]+[x for x in cat_kw3.columns if x not in [\"Year\",\"Week\",\"Week_Detail\",\"category\"]]].to_excel(writer, sheet_name='Category关键词',index=False)\n",
    "cat_decrp3[[\"Year\",\"Week\",\"Week_Detail\",\"category\"]+[x for x in cat_decrp3.columns if x not in [\"Year\",\"Week\",\"Week_Detail\",\"category\"]]].to_excel(writer, sheet_name='Category修饰词',index=False)\n",
    " \n",
    "#保存writer\n",
    "writer.save() \n",
    "writer.close()"
   ]
  },
  {
   "cell_type": "code",
   "execution_count": null,
   "metadata": {},
   "outputs": [],
   "source": []
  },
  {
   "cell_type": "code",
   "execution_count": null,
   "metadata": {},
   "outputs": [],
   "source": []
  }
 ],
 "metadata": {
  "kernelspec": {
   "display_name": "Python 3",
   "language": "python",
   "name": "python3"
  },
  "language_info": {
   "codemirror_mode": {
    "name": "ipython",
    "version": 3
   },
   "file_extension": ".py",
   "mimetype": "text/x-python",
   "name": "python",
   "nbconvert_exporter": "python",
   "pygments_lexer": "ipython3",
   "version": "3.8.5"
  }
 },
 "nbformat": 4,
 "nbformat_minor": 4
}

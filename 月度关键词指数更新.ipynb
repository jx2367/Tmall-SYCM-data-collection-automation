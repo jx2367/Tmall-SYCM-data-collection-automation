{
 "cells": [
  {
   "cell_type": "code",
   "execution_count": 1,
   "metadata": {},
   "outputs": [],
   "source": [
    "import time\n",
    "import sys\n",
    "import os\n",
    "import re\n",
    "import pandas as pd\n",
    "import numpy as np\n",
    "import pyperclip  # 引入模块\n",
    "import getpass"
   ]
  },
  {
   "cell_type": "code",
   "execution_count": 2,
   "metadata": {},
   "outputs": [],
   "source": [
    "account=getpass.getuser()"
   ]
  },
  {
   "cell_type": "code",
   "execution_count": 3,
   "metadata": {},
   "outputs": [],
   "source": [
    "ym=202104\n",
    "path='/Users/'+str(account)+'/Desktop/Max_workstation/maintenance/lastV/monthly/月度关键词/'+str(ym)+'/'"
   ]
  },
  {
   "cell_type": "code",
   "execution_count": 4,
   "metadata": {},
   "outputs": [],
   "source": [
    "if os.path.exists(path)==False:\n",
    "    os.makedirs(path)"
   ]
  },
  {
   "cell_type": "code",
   "execution_count": 5,
   "metadata": {},
   "outputs": [],
   "source": [
    "recent_value = \"\"\n",
    "tmp_value=\"\" # 初始化（应该也可以没有这一行，感觉意义不大。但是对recent_value的初始化是必须的）"
   ]
  },
  {
   "cell_type": "code",
   "execution_count": 6,
   "metadata": {},
   "outputs": [
    {
     "name": "stdout",
     "output_type": "stream",
     "text": [
      "50\n"
     ]
    }
   ],
   "source": [
    "pyperclip.copy('')\n",
    "\n",
    "dict1=dict()\n",
    "while True:\n",
    "    tmp_value = pyperclip.paste() \n",
    "    try:\n",
    "        if (tmp_value != recent_value) & (len(tmp_value)>20):\n",
    "            recent_value = tmp_value\n",
    "            buff=recent_value[recent_value.index(\"直通车参考价\")+6:recent_value.index(\"每页显示\")]\n",
    "            buff1=buff.replace(\"\\n\",\"\\t\").split(\"\\t\")\n",
    "            buff2=[x for x in buff1 if x not in [\"操作\",\"趋势\",\"搜索分析\",\"人群分析\",\"\"]]\n",
    "            buff_list=[]\n",
    "            buff_colnames=buff2[:6]\n",
    "            for i in range(12,52*6,6):\n",
    "                buff_list.append(buff2[i-6:i])\n",
    "                haha=pd.DataFrame(buff_list,columns=buff_colnames)\n",
    "                dict1[buff2[6]]=haha.loc[haha[\"搜索词\"].isnull()==False].reset_index(drop=True)\n",
    "            \n",
    "            print(len(dict1[buff2[6]]))\n",
    "    except KeyboardInterrupt:  # 如果有ctrl+c，那么就退出这个程序。  （不过好像并没有用。无伤大雅）\n",
    "        break\n",
    "        \n",
    "    if tmp_value == 'getend': # 如果复制的是getend，就退出程序。（这个主要是为了方便我在spyder中运行、退出的时候用的。）\n",
    "        break"
   ]
  },
  {
   "cell_type": "code",
   "execution_count": 7,
   "metadata": {},
   "outputs": [
    {
     "data": {
      "text/plain": [
       "{'冲锋衣':                搜索词    搜索人气    搜索热度      点击率    点击人气    点击热度\n",
       " 0              冲锋衣  26,636  58,763  102.90%  18,388  59,723\n",
       " 1             冲锋衣男  14,195  31,548   88.98%  10,135  29,508\n",
       " 2             冲锋衣女  13,510  36,505  110.56%  10,892  38,656\n",
       " 3           冲锋衣女春秋  10,229  27,451   97.68%   8,328  27,084\n",
       " 4           冲锋衣外套女   9,574  24,396   99.45%   7,483  24,320\n",
       " 5            冲锋衣女夏   8,184  19,125   80.39%   5,992  16,860\n",
       " 6           冲锋衣外套男   7,301  15,153   72.90%   5,036  12,613\n",
       " 7            冲锋衣夏季   7,173  15,868   81.69%   5,138  14,113\n",
       " 8            北面冲锋衣   6,615  15,280   95.15%   4,940  14,846\n",
       " 9            冲锋衣男夏   6,282  13,930   73.36%   4,574  11,634\n",
       " 10          冲锋衣男春秋   5,348  12,509   84.88%   4,045  11,370\n",
       " 11           炸街冲锋衣   4,714  10,909   94.92%   3,356  10,582\n",
       " 12          冲锋衣男薄款   4,440   9,754   78.26%   3,232   8,450\n",
       " 13          始祖鸟冲锋衣   4,333   8,926   85.89%   2,951   8,164\n",
       " 14          冲锋衣女薄款   4,156  10,895   95.29%   3,249  10,593\n",
       " 15           儿童冲锋衣   3,906  10,943  121.13%   3,178  12,236\n",
       " 16          北面 冲锋衣   3,676   8,802   90.17%   2,785   8,285\n",
       " 17           冲锋衣春秋   3,642   9,201  100.39%   2,779   9,222\n",
       " 18         冲锋衣春秋薄款   3,611   8,857   87.97%   2,677   8,215\n",
       " 19          北面冲锋衣女   3,314   8,308   91.44%   2,562   7,883\n",
       " 20        冲锋衣女夏季薄款   3,285   7,500   74.44%   2,367   6,303\n",
       " 21        哥伦比亚冲锋衣女   3,227   7,854   85.39%   2,387   7,158\n",
       " 22          拼色冲锋衣女   3,201   7,552  117.97%   2,566   8,321\n",
       " 23          户外冲锋衣女   3,195   8,755  106.58%   2,538   9,087\n",
       " 24          狼爪冲锋衣男   3,120   6,388   68.66%   2,128   5,114\n",
       " 25          迪卡侬冲锋衣   2,886   6,234   86.99%   2,128   5,741\n",
       " 26           收腰冲锋衣   2,831   5,878   78.53%   2,295   5,094\n",
       " 27          冲锋衣三合一   2,781   8,303  126.63%   2,284   9,534\n",
       " 28          北面冲锋衣男   2,756   6,389   76.44%   2,152   5,451\n",
       " 29         冲锋衣女三合一   2,717   8,409  121.91%   2,307   9,443\n",
       " 30         探路者冲锋衣女   2,688   6,599  100.11%   2,043   6,604\n",
       " 31          三合一冲锋衣   2,584   7,143  116.80%   2,033   7,826\n",
       " 32          骆驼冲锋衣女   2,584   6,659   78.40%   1,954   5,768\n",
       " 33        冲锋衣女春秋薄款   2,579   6,539   79.23%   1,826   5,699\n",
       " 34         巴黎世家冲锋衣   2,577   6,152   83.96%   2,053   5,548\n",
       " 35        哥伦比亚冲锋衣男   2,575   6,024   88.28%   1,848   5,596\n",
       " 36          半拉链冲锋衣   2,569   6,993   97.07%   2,051   6,871\n",
       " 37         始祖鸟冲锋衣男   2,545   5,748   81.03%   1,853   5,075\n",
       " 38           套头冲锋衣   2,536   6,854  100.99%   1,972   6,894\n",
       " 39           冲锋衣外套   2,534   6,059   86.19%   1,930   5,549\n",
       " 40           薄款冲锋衣   2,514   6,804  105.48%   1,954   7,022\n",
       " 41        冲锋衣外套女潮牌   2,488   6,857   97.88%   2,008   6,771\n",
       " 42           女童冲锋衣   2,435   7,164  113.03%   2,028   7,699\n",
       " 43           冲锋衣男童   2,430   6,556  107.49%   1,943   6,841\n",
       " 44         哥伦比亚冲锋衣   2,414   5,515   85.01%   1,620   5,009\n",
       " 45           李宁冲锋衣   2,410   5,139   91.36%   1,867   4,871\n",
       " 46  韩国代购nba短袖体恤冲锋衣   2,403   2,443   53.02%   1,611   1,661\n",
       " 47           冲锋衣女童   2,401   6,579  106.55%   1,901   6,830\n",
       " 48           户外冲锋衣   2,369   5,593  129.97%   1,754   6,530\n",
       " 49         追梦少年冲锋衣   2,358   4,610   66.56%   2,155   3,616}"
      ]
     },
     "execution_count": 7,
     "metadata": {},
     "output_type": "execute_result"
    }
   ],
   "source": [
    "dict1"
   ]
  },
  {
   "cell_type": "code",
   "execution_count": null,
   "metadata": {},
   "outputs": [],
   "source": [
    "print(dict1[buff2[6]])"
   ]
  },
  {
   "cell_type": "code",
   "execution_count": null,
   "metadata": {},
   "outputs": [],
   "source": [
    "result=pd.concat(dict1,axis=0)"
   ]
  },
  {
   "cell_type": "code",
   "execution_count": null,
   "metadata": {},
   "outputs": [],
   "source": [
    "result.to_excel(path+'品牌关键词.xlsx')\n",
    "#result.to_excel(path+'行业关键词.xlsx')"
   ]
  },
  {
   "cell_type": "code",
   "execution_count": null,
   "metadata": {},
   "outputs": [],
   "source": [
    "X=[x for x in dict1.keys()]\n"
   ]
  },
  {
   "cell_type": "code",
   "execution_count": null,
   "metadata": {},
   "outputs": [],
   "source": [
    "for i in X:\n",
    "    print(i)"
   ]
  },
  {
   "cell_type": "code",
   "execution_count": null,
   "metadata": {},
   "outputs": [],
   "source": []
  },
  {
   "cell_type": "code",
   "execution_count": null,
   "metadata": {},
   "outputs": [],
   "source": []
  },
  {
   "cell_type": "code",
   "execution_count": null,
   "metadata": {},
   "outputs": [],
   "source": []
  },
  {
   "cell_type": "code",
   "execution_count": null,
   "metadata": {},
   "outputs": [],
   "source": []
  },
  {
   "cell_type": "code",
   "execution_count": null,
   "metadata": {},
   "outputs": [],
   "source": []
  },
  {
   "cell_type": "code",
   "execution_count": null,
   "metadata": {},
   "outputs": [],
   "source": []
  },
  {
   "cell_type": "code",
   "execution_count": null,
   "metadata": {},
   "outputs": [],
   "source": []
  },
  {
   "cell_type": "code",
   "execution_count": null,
   "metadata": {},
   "outputs": [],
   "source": []
  },
  {
   "cell_type": "code",
   "execution_count": null,
   "metadata": {},
   "outputs": [],
   "source": []
  },
  {
   "cell_type": "code",
   "execution_count": null,
   "metadata": {},
   "outputs": [],
   "source": []
  }
 ],
 "metadata": {
  "kernelspec": {
   "display_name": "Python 3",
   "language": "python",
   "name": "python3"
  },
  "language_info": {
   "codemirror_mode": {
    "name": "ipython",
    "version": 3
   },
   "file_extension": ".py",
   "mimetype": "text/x-python",
   "name": "python",
   "nbconvert_exporter": "python",
   "pygments_lexer": "ipython3",
   "version": "3.8.5"
  }
 },
 "nbformat": 4,
 "nbformat_minor": 4
}

{
 "cells": [
  {
   "cell_type": "code",
   "execution_count": 33,
   "metadata": {},
   "outputs": [],
   "source": [
    "import time\n",
    "import sys\n",
    "import os\n",
    "import re\n",
    "import pandas as pd\n",
    "import numpy as np\n",
    "import getpass\n",
    "from datetime import datetime, timedelta"
   ]
  },
  {
   "cell_type": "code",
   "execution_count": 19,
   "metadata": {},
   "outputs": [],
   "source": [
    "import warnings\n",
    "warnings.filterwarnings(\"ignore\")"
   ]
  },
  {
   "cell_type": "code",
   "execution_count": 64,
   "metadata": {},
   "outputs": [],
   "source": [
    "last_week_start = datetime.strftime(datetime.now() - timedelta(days=datetime.now().weekday() + 7),\"%Y%m%d\")\n",
    "last_week_end = datetime.strftime(datetime.now() - timedelta(days=datetime.now().weekday() + 1),\"%m%d\")"
   ]
  },
  {
   "cell_type": "code",
   "execution_count": null,
   "metadata": {},
   "outputs": [],
   "source": []
  },
  {
   "cell_type": "code",
   "execution_count": 65,
   "metadata": {},
   "outputs": [
    {
     "name": "stdout",
     "output_type": "stream",
     "text": [
      "20210503 0509\n"
     ]
    }
   ],
   "source": [
    "print(last_week_start,last_week_end)"
   ]
  },
  {
   "cell_type": "code",
   "execution_count": 68,
   "metadata": {},
   "outputs": [
    {
     "name": "stdout",
     "output_type": "stream",
     "text": [
      "/Users/godmax/Desktop/weekly_kw_update/week_20210503-0509/\n"
     ]
    }
   ],
   "source": [
    "account=getpass.getuser()\n",
    "\n",
    "#注意windows用户请把'/Users/'改为 ’c:/Users/‘\n",
    "path='/Users/'+str(account)+'/Desktop/weekly_kw_update/'\n",
    "\n",
    "#这里需要修改rawdata的文件夹名字，每更新一周就改一个名字，这里对齐就好\n",
    "raw_path=path+\"week_\"+str(last_week_start)+\"-\"+str(last_week_end)+\"/\"\n",
    "print(raw_path)"
   ]
  },
  {
   "cell_type": "code",
   "execution_count": 21,
   "metadata": {},
   "outputs": [],
   "source": [
    "#需要提前把dictionary文件夹放入weekly_kw_update这个文件夹里\n",
    "cat_dict0=pd.read_excel(path+'dictionary.xlsx',sheet_name='cat_dict')\n",
    "brand_dict0=pd.read_excel(path+'dictionary.xlsx',sheet_name='brand_dict')"
   ]
  },
  {
   "cell_type": "code",
   "execution_count": null,
   "metadata": {},
   "outputs": [],
   "source": [
    "cat_dict=dict(zip(cat_dict0[\"subcat\"],cat_dict0[\"cat\"]))\n",
    "brand_dict=dict(zip(brand_dict0[\"sub_kw\"],brand_dict0[\"brand\"]))"
   ]
  },
  {
   "cell_type": "code",
   "execution_count": 22,
   "metadata": {},
   "outputs": [],
   "source": [
    "cat_kw=dict()\n",
    "cat_decrp=dict()\n",
    "brand_kw=dict()\n",
    "brand_descrp=dict()\n",
    "for file in os.listdir(raw_path):\n",
    "    buff=file.split(sep=\"_\")\n",
    "    df=pd.read_csv(raw_path+file)\n",
    "    \n",
    "    if buff[1].lower() in [x.lower() for x in cat_dict.keys()]:\n",
    "        if \"相关搜索\" in buff[5]:\n",
    "            print(buff[1])\n",
    "            cat_kw[buff[1]]=df\n",
    "        if \"关联修饰\" in buff[5]:\n",
    "            cat_decrp[buff[1]]=df\n",
    "    if buff[1].lower() in [x.lower() for x in brand_dict.keys()]:\n",
    "        if \"相关搜索\" in buff[5]:\n",
    "            brand_kw[buff[1]]=df\n",
    "        if \"关联修饰\" in buff[5]:\n",
    "            brand_descrp[buff[1]]=df\n",
    "            "
   ]
  },
  {
   "cell_type": "code",
   "execution_count": 23,
   "metadata": {},
   "outputs": [
    {
     "name": "stdout",
     "output_type": "stream",
     "text": [
      "马丁靴\n",
      "女包\n",
      "运动t恤\n",
      "运动服\n",
      "卡套\n",
      "羽绒服\n",
      "手机包\n",
      "卡包\n",
      "双肩包\n",
      "帆布鞋\n",
      "徒步鞋\n",
      "女装\n",
      "运动卫衣\n",
      "板鞋\n",
      "夹克\n",
      "皮肤衣\n",
      "休闲裤\n",
      "运动鞋\n",
      "冲锋衣\n",
      "卫衣\n",
      "靴子\n",
      "运动外套\n",
      "钥匙包\n",
      "休闲鞋\n",
      "t恤\n",
      "证件包\n",
      "滑雪服\n"
     ]
    }
   ],
   "source": [
    "cat_kw2=pd.concat(cat_kw,axis=0).reset_index()\n",
    "cat_decrp2=pd.concat(cat_decrp,axis=0).reset_index()\n",
    "brand_kw2=pd.concat(brand_kw,axis=0).reset_index()\n",
    "brand_descrp2=pd.concat(brand_descrp,axis=0).reset_index()\n"
   ]
  },
  {
   "cell_type": "code",
   "execution_count": null,
   "metadata": {},
   "outputs": [],
   "source": [
    "def add_yw(data,year,week_num):\n",
    "    data=data.loc[data[\"日期\"].isna()==False]\n",
    "    data[\"Year\"]=year\n",
    "    data[\"Week\"]=week_num\n",
    "    data[\"Week_Detail\"]=data[\"日期\"]\n",
    "    data2=data[[\"Year\",\"Week\",\"Week_Detail\"]+[x for x in data.columns if x not in [\"level_1\",\"日期\",\"Year\",\"Week\",\"Week_Detail\"]]]\n",
    "    return(data2)"
   ]
  },
  {
   "cell_type": "code",
   "execution_count": 24,
   "metadata": {},
   "outputs": [],
   "source": [
    "week_num=18\n",
    "\n",
    "cat_kw3=add_yw(cat_kw2,2021,week_num)\n",
    "cat_kw3=cat_kw3.rename(columns={\"level_0\":\"keywords\"},inplace=False)\n",
    "cat_kw3[\"category\"]=[cat_dict[x.lower()] for x in cat_kw3[\"keywords\"]]\n",
    "print(cat_kw3.head(3))\n",
    "\n",
    "cat_decrp3=add_yw(cat_decrp2,2021,week_num)\n",
    "cat_decrp3=cat_decrp3.rename(columns={\"level_0\":\"keywords\"},inplace=False)\n",
    "cat_decrp3[\"category\"]=[cat_dict[x.lower()] for x in cat_decrp3[\"keywords\"]]\n",
    "print(cat_decrp3.head(3))\n",
    "\n",
    "brand_kw3=add_yw(brand_kw2,2021,week_num)\n",
    "brand_kw3=brand_kw3.rename(columns={\"level_0\":\"Search_keywords\"},inplace=False)\n",
    "brand_kw3[\"Brand\"]=[brand_dict[x.lower()] for x in brand_kw3[\"Search_keywords\"]]\n",
    "print(brand_kw3.head(3))\n",
    "\n",
    "brand_descrp3=add_yw(brand_descrp2,2021,week_num)\n",
    "brand_descrp3=brand_descrp3.rename(columns={\"level_0\":\"Search_keywords\"},inplace=False)\n",
    "brand_descrp3[\"Brand\"]=[brand_dict[x.lower()] for x in brand_descrp3[\"Search_keywords\"]]\n",
    "print(brand_descrp3.head(3))"
   ]
  },
  {
   "cell_type": "code",
   "execution_count": null,
   "metadata": {},
   "outputs": [],
   "source": []
  },
  {
   "cell_type": "code",
   "execution_count": null,
   "metadata": {},
   "outputs": [],
   "source": [
    "# 获取ExcelWriter对象\n",
    "target_path=path+\"关键词&修饰词_weekly_till_\"+str(last_week_end)+\"阿明.xlsx\"\n",
    "pd.DataFrame().to_excel(target_path)\n",
    "writer = pd.ExcelWriter(target_path,engine='xlsxwriter',options={'strings_to_numbers': True}) \n",
    " \n",
    "#将df1与df2写入writer中\n",
    "brand_kw3[[\"Year\",\"Week\",\"Week_Detail\",\"Brand\"]+[x for x in brand_kw3.columns if x not in [\"Year\",\"Week\",\"Week_Detail\",\"Brand\"]]].to_excel(writer, sheet_name='品牌关键词',index=False)\n",
    "brand_descrp3[[\"Year\",\"Week\",\"Week_Detail\",\"Brand\"]+[x for x in brand_descrp3.columns if x not in [\"Year\",\"Week\",\"Week_Detail\",\"Brand\"]]].to_excel(writer, sheet_name='品牌修饰词',index=False)\n",
    "cat_kw3[[\"Year\",\"Week\",\"Week_Detail\",\"category\"]+[x for x in cat_kw3.columns if x not in [\"Year\",\"Week\",\"Week_Detail\",\"category\"]]].to_excel(writer, sheet_name='Category关键词',index=False)\n",
    "cat_decrp3[[\"Year\",\"Week\",\"Week_Detail\",\"category\"]+[x for x in cat_decrp3.columns if x not in [\"Year\",\"Week\",\"Week_Detail\",\"category\"]]].to_excel(writer, sheet_name='Category修饰词',index=False)\n",
    " \n",
    "#保存writer\n",
    "writer.save() \n",
    "writer.close()"
   ]
  },
  {
   "cell_type": "code",
   "execution_count": null,
   "metadata": {},
   "outputs": [],
   "source": []
  },
  {
   "cell_type": "code",
   "execution_count": null,
   "metadata": {},
   "outputs": [],
   "source": []
  },
  {
   "cell_type": "code",
   "execution_count": null,
   "metadata": {},
   "outputs": [],
   "source": []
  },
  {
   "cell_type": "code",
   "execution_count": 28,
   "metadata": {},
   "outputs": [],
   "source": []
  },
  {
   "cell_type": "code",
   "execution_count": null,
   "metadata": {},
   "outputs": [],
   "source": []
  },
  {
   "cell_type": "code",
   "execution_count": null,
   "metadata": {},
   "outputs": [],
   "source": []
  }
 ],
 "metadata": {
  "kernelspec": {
   "display_name": "Python 3",
   "language": "python",
   "name": "python3"
  },
  "language_info": {
   "codemirror_mode": {
    "name": "ipython",
    "version": 3
   },
   "file_extension": ".py",
   "mimetype": "text/x-python",
   "name": "python",
   "nbconvert_exporter": "python",
   "pygments_lexer": "ipython3",
   "version": "3.8.5"
  }
 },
 "nbformat": 4,
 "nbformat_minor": 4
}
